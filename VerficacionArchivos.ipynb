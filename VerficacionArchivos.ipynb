{
  "nbformat": 4,
  "nbformat_minor": 0,
  "metadata": {
    "colab": {
      "provenance": [],
      "gpuType": "T4",
      "authorship_tag": "ABX9TyPyHnOE2S3+KZRrK1ZKZcb7",
      "include_colab_link": true
    },
    "kernelspec": {
      "name": "python3",
      "display_name": "Python 3"
    },
    "language_info": {
      "name": "python"
    },
    "accelerator": "GPU"
  },
  "cells": [
    {
      "cell_type": "markdown",
      "metadata": {
        "id": "view-in-github",
        "colab_type": "text"
      },
      "source": [
        "<a href=\"https://colab.research.google.com/github/Humberto3280/CEO/blob/main/VerficacionArchivos.ipynb\" target=\"_parent\"><img src=\"https://colab.research.google.com/assets/colab-badge.svg\" alt=\"Open In Colab\"/></a>"
      ]
    },
    {
      "cell_type": "code",
      "source": [
        "!pip install pandas pyxlsb"
      ],
      "metadata": {
        "colab": {
          "base_uri": "https://localhost:8080/"
        },
        "id": "bKD1Z0zapYlD",
        "outputId": "5ab2fa8d-261a-4cf9-b4c7-c0cb8dfb29a5"
      },
      "execution_count": null,
      "outputs": [
        {
          "output_type": "stream",
          "name": "stdout",
          "text": [
            "Requirement already satisfied: pandas in /usr/local/lib/python3.10/dist-packages (2.2.2)\n",
            "Collecting pyxlsb\n",
            "  Downloading pyxlsb-1.0.10-py2.py3-none-any.whl.metadata (2.5 kB)\n",
            "Requirement already satisfied: numpy>=1.22.4 in /usr/local/lib/python3.10/dist-packages (from pandas) (1.26.4)\n",
            "Requirement already satisfied: python-dateutil>=2.8.2 in /usr/local/lib/python3.10/dist-packages (from pandas) (2.8.2)\n",
            "Requirement already satisfied: pytz>=2020.1 in /usr/local/lib/python3.10/dist-packages (from pandas) (2024.2)\n",
            "Requirement already satisfied: tzdata>=2022.7 in /usr/local/lib/python3.10/dist-packages (from pandas) (2024.2)\n",
            "Requirement already satisfied: six>=1.5 in /usr/local/lib/python3.10/dist-packages (from python-dateutil>=2.8.2->pandas) (1.17.0)\n",
            "Downloading pyxlsb-1.0.10-py2.py3-none-any.whl (23 kB)\n",
            "Installing collected packages: pyxlsb\n",
            "Successfully installed pyxlsb-1.0.10\n"
          ]
        }
      ]
    },
    {
      "cell_type": "code",
      "source": [
        "import pandas as pd\n",
        "# Lectura en xlsb\n",
        "tarifasDefinitivo = pd.read_excel('tarifasDefinitivo.xlsb', engine='pyxlsb')\n",
        "#tarifas = pd.read_excel('tarifas.xlsb', engine='pyxlsb')\n",
        "tarifas = pd.read_csv('Tarifas.csv')"
      ],
      "metadata": {
        "id": "dBApVnzmpZmo"
      },
      "execution_count": null,
      "outputs": []
    },
    {
      "cell_type": "code",
      "source": [
        "tarifasDefinitivo.info()"
      ],
      "metadata": {
        "id": "YcEHjN-wryTv",
        "colab": {
          "base_uri": "https://localhost:8080/"
        },
        "outputId": "4915b243-53a7-4402-e4fe-ce54c49fe95e"
      },
      "execution_count": null,
      "outputs": [
        {
          "output_type": "stream",
          "name": "stdout",
          "text": [
            "<class 'pandas.core.frame.DataFrame'>\n",
            "RangeIndex: 454730 entries, 0 to 454729\n",
            "Data columns (total 11 columns):\n",
            " #   Column               Non-Null Count   Dtype \n",
            "---  ------               --------------   ----- \n",
            " 0   NIU                  454730 non-null  int64 \n",
            " 1   ESTRATO              454730 non-null  object\n",
            " 2   TIPO TARIFA          454730 non-null  object\n",
            " 3   CONSUMO              454730 non-null  int64 \n",
            " 4   FACTURACION CONSUMO  454730 non-null  int64 \n",
            " 5   UBICACION            454730 non-null  object\n",
            " 6   DAVIPOLA             454730 non-null  int64 \n",
            " 7   MUNICIPIO            454730 non-null  object\n",
            " 8   NIVEL DE TENSION     454730 non-null  int64 \n",
            " 9   CARGA DE INVERSION   454730 non-null  int64 \n",
            " 10  ZE                   454730 non-null  int64 \n",
            "dtypes: int64(7), object(4)\n",
            "memory usage: 38.2+ MB\n"
          ]
        }
      ]
    },
    {
      "cell_type": "code",
      "source": [
        "tarifas.info()"
      ],
      "metadata": {
        "id": "Crj_vsMFr1Os",
        "colab": {
          "base_uri": "https://localhost:8080/"
        },
        "outputId": "ebdf4f7f-58bc-4055-8b8f-00cbf9eeace3"
      },
      "execution_count": null,
      "outputs": [
        {
          "output_type": "stream",
          "name": "stdout",
          "text": [
            "<class 'pandas.core.frame.DataFrame'>\n",
            "RangeIndex: 454730 entries, 0 to 454729\n",
            "Data columns (total 11 columns):\n",
            " #   Column               Non-Null Count   Dtype \n",
            "---  ------               --------------   ----- \n",
            " 0   NIU                  454730 non-null  int64 \n",
            " 1   ESTRATO              454730 non-null  object\n",
            " 2   TIPO TARIFA          454730 non-null  object\n",
            " 3   CONSUMO              454730 non-null  int64 \n",
            " 4   FACTURACION CONSUMO  454730 non-null  int64 \n",
            " 5   UBICACION            454730 non-null  object\n",
            " 6   DAVIPOLA             454730 non-null  int64 \n",
            " 7   MUNICIPIO            454730 non-null  object\n",
            " 8   NIVEL DE TENSION     454730 non-null  int64 \n",
            " 9   CARGA DE INVERSION   454730 non-null  int64 \n",
            " 10  ZE                   454730 non-null  int64 \n",
            "dtypes: int64(7), object(4)\n",
            "memory usage: 38.2+ MB\n"
          ]
        }
      ]
    },
    {
      "cell_type": "code",
      "source": [
        "# Asegurarnos de que ambos DataFrames tengan las mismas columnas y tipos de datos\n",
        "tarifasDefinitivo.columns = tarifasDefinitivo.columns.str.strip()\n",
        "tarifas.columns = tarifas.columns.str.strip()"
      ],
      "metadata": {
        "id": "iWF6MfVhcT8h"
      },
      "execution_count": null,
      "outputs": []
    },
    {
      "cell_type": "code",
      "execution_count": null,
      "metadata": {
        "id": "GCGFQ3mJosfV",
        "colab": {
          "base_uri": "https://localhost:8080/"
        },
        "outputId": "f0b84fee-6aa7-4fa2-af02-bbacd74d464c"
      },
      "outputs": [
        {
          "output_type": "stream",
          "name": "stdout",
          "text": [
            "Columnas en tarifas: Index(['ESTRATO', 'TIPO TARIFA', 'CONSUMO', 'FACTURACION CONSUMO', 'UBICACION',\n",
            "       'DAVIPOLA', 'MUNICIPIO', 'NIVEL DE TENSION', 'CARGA DE INVERSION',\n",
            "       'ZE'],\n",
            "      dtype='object')\n",
            "Columnas en tarifasDefinitivo: Index(['ESTRATO', 'TIPO TARIFA', 'CONSUMO', 'FACTURACION CONSUMO', 'UBICACION',\n",
            "       'DAVIPOLA', 'MUNICIPIO', 'NIVEL DE TENSION', 'CARGA DE INVERSION',\n",
            "       'ZE'],\n",
            "      dtype='object')\n",
            "Índices en tarifas: Index([225309471, 225310207, 225311094, 225314435, 225315112, 225317786,\n",
            "       225318563, 225321963, 225322740, 225324304,\n",
            "       ...\n",
            "       898767729, 898767731, 898767733, 898767735, 898767737, 898767739,\n",
            "       898767741, 898767743, 898767745, 898767748],\n",
            "      dtype='int64', name='NIU', length=454730)\n",
            "Índices en tarifasDefinitivo: Index([225309471, 225310207, 225311094, 225314435, 225315112, 225317786,\n",
            "       225318563, 225321963, 225322740, 225324304,\n",
            "       ...\n",
            "       898767729, 898767731, 898767733, 898767735, 898767737, 898767739,\n",
            "       898767741, 898767743, 898767745, 898767748],\n",
            "      dtype='int64', name='NIU', length=454730)\n",
            "Diferencias encontradas entre 'tarifas' y 'tarifasDefinitivo':\n",
            "          ESTRATO       MUNICIPIO          \n",
            "             self other      self     other\n",
            "NIU                                        \n",
            "225310207     NaN   NaN     PATIA  EL BORDO\n",
            "225314435     NaN   NaN     PATIA  EL BORDO\n",
            "225341701     NaN   NaN     PATIA  EL BORDO\n",
            "225343375     NaN   NaN     PATIA  EL BORDO\n",
            "225344152     NaN   NaN     PATIA  EL BORDO\n",
            "...           ...   ...       ...       ...\n",
            "898766659       2     2       NaN       NaN\n",
            "898766665       1     1       NaN       NaN\n",
            "898766670       1     1       NaN       NaN\n",
            "898766878       1     1       NaN       NaN\n",
            "898766983       1     1       NaN       NaN\n",
            "\n",
            "[431568 rows x 4 columns]\n"
          ]
        }
      ],
      "source": [
        "# Asegurarnos de que ambos DataFrames tengan los mismos índices y columnas\n",
        "tarifasDefinitivo = tarifasDefinitivo.set_index('NIU').sort_index()\n",
        "tarifas = tarifas.set_index('NIU').sort_index()\n",
        "\n",
        "# Reindexar ambos DataFrames para tener las mismas columnas\n",
        "tarifasDefinitivo = tarifasDefinitivo.reindex(columns=tarifas.columns)\n",
        "tarifas = tarifas.reindex(columns=tarifasDefinitivo.columns)\n",
        "\n",
        "# Verificar las diferencias de índice y columnas antes de la comparación\n",
        "print(\"Columnas en tarifas:\", tarifas.columns)\n",
        "print(\"Columnas en tarifasDefinitivo:\", tarifasDefinitivo.columns)\n",
        "print(\"Índices en tarifas:\", tarifas.index)\n",
        "print(\"Índices en tarifasDefinitivo:\", tarifasDefinitivo.index)\n",
        "\n",
        "# Comparar ambos DataFrames\n",
        "comparison = tarifas.compare(tarifasDefinitivo)\n",
        "\n",
        "# Mostrar las diferencias encontradas\n",
        "print(\"Diferencias encontradas entre 'tarifas' y 'tarifasDefinitivo':\")\n",
        "print(comparison)"
      ]
    },
    {
      "cell_type": "code",
      "source": [
        "# Guardar el informe de diferencias en un archivo CSV (si es necesario)\n",
        "comparison.to_csv('comparacion_tarifas.csv')"
      ],
      "metadata": {
        "id": "60wVY9DcrIBd"
      },
      "execution_count": null,
      "outputs": []
    },
    {
      "cell_type": "code",
      "source": [],
      "metadata": {
        "id": "DpqYzqLUJTxu"
      },
      "execution_count": null,
      "outputs": []
    }
  ]
}